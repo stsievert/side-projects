{
 "metadata": {
  "name": ""
 },
 "nbformat": 3,
 "nbformat_minor": 0,
 "worksheets": [
  {
   "cells": [
    {
     "cell_type": "code",
     "collapsed": false,
     "input": [
      "from __future__ import division\n",
      "%pylab inline"
     ],
     "language": "python",
     "metadata": {},
     "outputs": [
      {
       "output_type": "stream",
       "stream": "stdout",
       "text": [
        "Populating the interactive namespace from numpy and matplotlib\n"
       ]
      }
     ],
     "prompt_number": 2
    },
    {
     "cell_type": "markdown",
     "metadata": {},
     "source": [
      "#### `dot`\n",
      "Complicated mathematical statements are often something like\n",
      "\n",
      "$$ W = C X R $$\n",
      "\n",
      "where $C$, $X$ and $R$ are matricies and they're all dot'ed together.\n",
      "\n",
      "With `dot`, that'd look like..."
     ]
    },
    {
     "cell_type": "markdown",
     "metadata": {},
     "source": [
      "Now, you could do some complicated `asmatrix` to have it work. `matrix` uses the `*` operator as `dot."
     ]
    },
    {
     "cell_type": "code",
     "collapsed": false,
     "input": [
      "seed(42) # setting the seed for random number generation\n",
      "X = arange(8*8).reshape(8,8) / (8*8)\n",
      "C = rand(8,8)\n",
      "R = C.copy().T\n",
      "\n",
      "X = asmatrix(X)\n",
      "C = asmatrix(C)\n",
      "R = asmatrix(R)\n",
      "\n",
      "W = C * X * R\n",
      "\n",
      "X = asarray(X)\n",
      "C = asarray(C)\n",
      "R = asarray(R)\n",
      "W = asarray(W)\n",
      "\n",
      "imshow(W, interpolation='nearest')\n",
      "show()\n"
     ],
     "language": "python",
     "metadata": {},
     "outputs": [
      {
       "metadata": {},
       "output_type": "display_data",
       "png": "[encoded data removed]",
       "text": [
        "<matplotlib.figure.Figure at 0x1061352d0>"
       ]
      }
     ],
     "prompt_number": 10
    },
    {
     "cell_type": "code",
     "collapsed": false,
     "input": [
      "# two seperate arrays! one is the transpose of the other, and C isn't modified.\n",
      "W = dot(C, dot(X, R))\n",
      "\n",
      "imshow(W, interpolation='nearest') # 'nearest' == no blurring\n",
      "colorbar()\n",
      "show()"
     ],
     "language": "python",
     "metadata": {},
     "outputs": [
      {
       "metadata": {},
       "output_type": "display_data",
       "png": "[encoded data removed]",
       "text": [
        "<matplotlib.figure.Figure at 0x102396410>"
       ]
      }
     ],
     "prompt_number": 11
    },
    {
     "cell_type": "markdown",
     "metadata": {},
     "source": [
      "But that's kinda icky. It's much neater to do"
     ]
    },
    {
     "cell_type": "code",
     "collapsed": false,
     "input": [
      "W = C.dot(X).dot(R)\n",
      "imshow(W, interpolation='nearest')\n",
      "show()\n",
      "# the same result"
     ],
     "language": "python",
     "metadata": {},
     "outputs": [
      {
       "metadata": {},
       "output_type": "display_data",
       "png": "[encoded data removed]",
       "text": [
        "<matplotlib.figure.Figure at 0x1022d8710>"
       ]
      }
     ],
     "prompt_number": 12
    },
    {
     "cell_type": "markdown",
     "metadata": {},
     "source": [
      "which is kinda similar to Matlab's `X * B`; there's not the business of `asmatrix` going on."
     ]
    },
    {
     "cell_type": "markdown",
     "metadata": {},
     "source": [
      "#### Evenly spaced arrays (lin or log)\n",
      "Matlab's `0:1e-2:10` is pretty nice and short. Python's analogous (but longer) functions are\n",
      "\n",
      "* `np.linspace(start, stop, num=50)`\n",
      "* `np.logspace(start, stop, num=50)`\n",
      "* `np.arange([min], max, [step])`\n"
     ]
    },
    {
     "cell_type": "markdown",
     "metadata": {},
     "source": [
      "#### Indexing\n",
      "There's a nice tutorial on [indexing][index] in the Python docs.\n",
      "\n",
      "##### `newaxis`\n",
      "`newaxis` adds well, a new axis to the array. That means that if you have a two dimensional array and want to select a square, you can use new axis to do it easily. You can also use `meshgrid` to do this.\n",
      "\n",
      "[index]:http://docs.scipy.org/doc/numpy/reference/arrays.indexing.html"
     ]
    },
    {
     "cell_type": "code",
     "collapsed": false,
     "input": [
      "# flat\n",
      "x = arange(4*4).reshape(4,4)\n",
      "print x\n",
      "print x.flat[4]\n",
      "\n",
      "# newaxis\n",
      "x = arange(4*4).reshape(4,4)\n",
      "i = arange(2)\n",
      "j = arange(2)\n",
      "j = j[:, newaxis]\n",
      "x[i, j] # will print everything in the upper right corner"
     ],
     "language": "python",
     "metadata": {},
     "outputs": [
      {
       "output_type": "stream",
       "stream": "stdout",
       "text": [
        "[[ 0  1  2  3]\n",
        " [ 4  5  6  7]\n",
        " [ 8  9 10 11]\n",
        " [12 13 14 15]]\n",
        "4\n"
       ]
      },
      {
       "metadata": {},
       "output_type": "pyout",
       "prompt_number": 5,
       "text": [
        "array([[0, 4],\n",
        "       [1, 5]])"
       ]
      }
     ],
     "prompt_number": 5
    },
    {
     "cell_type": "code",
     "collapsed": false,
     "input": [],
     "language": "python",
     "metadata": {},
     "outputs": []
    }
   ],
   "metadata": {}
  }
 ]
}