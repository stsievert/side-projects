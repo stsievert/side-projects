{
 "metadata": {
  "name": "Python vs Matlab"
 },
 "nbformat": 3,
 "nbformat_minor": 0,
 "worksheets": [
  {
   "cells": [
    {
     "cell_type": "markdown",
     "metadata": {},
     "source": [
      "Here, I am going to time Matlab, C, and Python (using Numpy) and Numba (Python and Numpy's JIT) against each other, essentially replicating [this other numba vs. cython post][1]. But here, I'm using MATLAB, which also has a JIT.\n",
      "\n",
      "To view any file that's analyzed here, go to the specific [GitHub folder][2] (but this should be in there).\n",
      "\n",
      "[1]:http://jakevdp.github.io/blog/2013/06/15/numba-vs-cython-take-2/"
     ]
    },
    {
     "cell_type": "markdown",
     "metadata": {},
     "source": [
      "### Numpy\n",
      "Here, we're going to define a several functions (discrete wavelet operations, inverse and forward)."
     ]
    },
    {
     "cell_type": "code",
     "collapsed": false,
     "input": [],
     "language": "python",
     "metadata": {},
     "outputs": [],
     "prompt_number": 1
    },
    {
     "cell_type": "markdown",
     "metadata": {},
     "source": []
    },
    {
     "cell_type": "markdown",
     "metadata": {},
     "source": [
      "### Numba Wrapper\n",
      "Note that the first time we compile this function there's some overhead. After that, since it's already compiled, it runs faster."
     ]
    },
    {
     "cell_type": "code",
     "collapsed": false,
     "input": [
      "#from numba import double\n",
      "from numba import  autojit\n",
      "\n",
      "#dwt2_full_n = autojit(dwt2_full)\n",
      "\n",
      "#%timeit dwt2_full_n(X)"
     ],
     "language": "python",
     "metadata": {},
     "outputs": [],
     "prompt_number": 2
    },
    {
     "cell_type": "markdown",
     "metadata": {},
     "source": [
      "Here, I get 8.41ms per loop."
     ]
    },
    {
     "cell_type": "markdown",
     "metadata": {},
     "source": [
      "### MATLAB\n",
      "This will be run in the actual Matlab environment, but I'll include the code in here."
     ]
    },
    {
     "cell_type": "code",
     "collapsed": false,
     "input": [],
     "language": "python",
     "metadata": {},
     "outputs": [],
     "prompt_number": 14
    },
    {
     "cell_type": "markdown",
     "metadata": {},
     "source": [
      "Using the first method, the function closest to the Python function, I get 19.8ms. Using the second function, one that has been optimized, I get 0.144ms."
     ]
    },
    {
     "cell_type": "markdown",
     "metadata": {},
     "source": []
    },
    {
     "cell_type": "markdown",
     "metadata": {},
     "source": [
      "### C\n"
     ]
    }
   ],
   "metadata": {}
  }
 ]
}