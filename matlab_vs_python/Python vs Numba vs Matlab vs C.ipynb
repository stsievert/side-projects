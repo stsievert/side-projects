{
 "metadata": {
  "name": "Python vs Numba vs Matlab vs C"
 },
 "nbformat": 3,
 "nbformat_minor": 0,
 "worksheets": [
  {
   "cells": [
    {
     "cell_type": "markdown",
     "metadata": {},
     "source": [
      "# Python, NumPy, Numba, Matlab and C"
     ]
    },
    {
     "cell_type": "markdown",
     "metadata": {},
     "source": [
      "In my field, signal processing, Matlab is heavily used. I see Python as becoming a valid competitor, eventually. However, one of the advantages of Matlab is that it has a just-in-time compiler (JIT), making it much faster. Here, I test to see *how* much faster. I use Python's JIT, Numba, as well, and also include a C file to compare against.\n",
      "\n",
      "Any file compared is viewable at [my GitHub][2]. It's over 800 lines of code, the reason it's not in this notebook. As for overhead, I've tested the notebook GUI out, and there's no added overhead.\n",
      "\n",
      "This notebook is best viewed at [nbviewer.ipython.org][3].\n",
      "\n",
      "\n",
      "[1]:http://jakevdp.github.io/blog/2013/06/15/numba-vs-cython-take-2/\n",
      "[2]:https://github.com/scottsievert/side-projects/tree/master/matlab_vs_python\n",
      "[3]:http://nbviewer.ipython.org/urls/raw.github.com/scottsievert/side-projects/master/matlab_vs_python/Python%2520vs%2520Numba%2520vs%2520Matlab%2520vs%2520C.ipynb"
     ]
    },
    {
     "cell_type": "markdown",
     "metadata": {},
     "source": [
      "My field is called compressed sensing. It's where you reconstruct missing data from existing structure. For example, you know that your signal doesn't have an infinite number of frequencies. You use this fact to your advantage, essentially minimizing $\\arg\\min ||y-Ax|| + \\lambda || T(x) || $. The algorith, iterative soft thresholding, is complex, so I'll just show you an example of what it can do.\n",
      "\n",
      "[1]:http://www.ricam.oeaw.ac.at/conferences/aip2009/minisymposia/slides/aip2009_m19_de_mol_christine.pdf"
     ]
    },
    {
     "cell_type": "code",
     "collapsed": false,
     "input": [
      "from IST import *\n",
      "\n",
      "I = imread('./lenna.jpg')\n",
      "I = mean(I, axis=2)\n",
      "x, ys = ISTreal(I)\n",
      "\n",
      "figure(figsize=(14,14))\n",
      "subplot(121)\n",
      "imshow(ys, cmap='gray')\n",
      "axis('off')\n",
      "title('The sampled image')\n",
      "\n",
      "subplot(122)\n",
      "imshow(idwt2_full(x), cmap='gray')\n",
      "axis('off')\n",
      "title('The reconstructed image')\n",
      "\n",
      "show()"
     ],
     "language": "python",
     "metadata": {},
     "outputs": [],
     "prompt_number": "*"
    },
    {
     "cell_type": "markdown",
     "metadata": {},
     "source": [
      "As you can see, a fairly good reconstruction. This algorithm is widely used in my field, and is an iterative process, good for testing JITs. So now, we'll get onto the meat of this notebook and test it the speed of this in Python, NumPy, Numba, Matlab and C."
     ]
    },
    {
     "cell_type": "markdown",
     "metadata": {},
     "source": [
      "### Python\n",
      "Here, we're going to define a several functions (discrete wavelet operations, inverse and forward), then test the iterative soft thresholding (IST). You can see all the declarations in the GitHub repo.\n",
      "\n",
      "This pure python module uses for-loops as well as Numpy, but Numpy is famously bad at for-loops."
     ]
    },
    {
     "cell_type": "code",
     "collapsed": false,
     "input": [
      "import ISTpython as ISTp\n",
      "%timeit ISTp.IST()"
     ],
     "language": "python",
     "metadata": {},
     "outputs": [
      {
       "output_type": "stream",
       "stream": "stdout",
       "text": [
        "1 loops, best of 3: 201 s per loop\n"
       ]
      }
     ],
     "prompt_number": 43
    },
    {
     "cell_type": "markdown",
     "metadata": {},
     "source": [
      "### NumPy\n",
      "The only change we make is that we vectorize our for-loops in our two fundamental functions (done thanks to a [Reddit comment][1]. Instead of \n",
      "\n",
      "    for i in arange(16):\n",
      "        y[i]   = x[2*i] + x[2*i+1]\n",
      "        y[i+l] = x[2*i] - x[2*i+1]\n",
      "\n",
      "we have\n",
      "\n",
      "    i = arange(16)\n",
      "    y[i]   = x[2*i] + x[2*i+1]\n",
      "    y[i+l] = x[2*i] - x[2*i+1]\n",
      "\n",
      "That's it, but we see huge speed improvements.\n",
      "\n",
      "[1]:http://www.reddit.com/r/IPython/comments/1h7ztw/numpy_numba_matlab_and_c/carw4ug"
     ]
    },
    {
     "cell_type": "code",
     "collapsed": false,
     "input": [
      "import IST as ISTnumpy\n",
      "%timeit ISTnumpy.IST()"
     ],
     "language": "python",
     "metadata": {},
     "outputs": [
      {
       "output_type": "stream",
       "stream": "stdout",
       "text": [
        "1 loops, best of 3: 12.9 s per loop\n"
       ]
      }
     ],
     "prompt_number": 44
    },
    {
     "cell_type": "markdown",
     "metadata": {},
     "source": [
      "### Numba Wrapper\n",
      "Compiling this function in Numba was a pain. I ran into weird bugs where was testing a function, or running it multiple times, I would get an error. If I quit the interpetter and restarted, it was fine and I got no bugs. I also had to adjust anything or unusual (tuple assignment didn't work, `dtype` assignment didn't work, etc). The functions in `ISTnumba` are those adjusted functions with an `@autojit` decerator."
     ]
    },
    {
     "cell_type": "code",
     "collapsed": false,
     "input": [
      "import ISTnumba\n",
      "%timeit ISTnumba.IST()"
     ],
     "language": "python",
     "metadata": {},
     "outputs": [
      {
       "output_type": "stream",
       "stream": "stdout",
       "text": [
        "1 loops, best of 3: 10 s per loop\n"
       ]
      }
     ],
     "prompt_number": 45
    },
    {
     "cell_type": "markdown",
     "metadata": {},
     "source": [
      "### MATLAB\n",
      "This will be run in the actual Matlab environment, but I'll include the results in here. I have installed the MATLAB command line tools, but `matlab -nodisplay -r \"run IST.m\"` starts the interpreter, so I can't use `time`."
     ]
    },
    {
     "cell_type": "raw",
     "metadata": {},
     "source": [
      "`Elapsed time is 7.170071 seconds.`"
     ]
    },
    {
     "cell_type": "markdown",
     "metadata": {},
     "source": [
      "### C\n",
      "And the C versions, with the optimization flags."
     ]
    },
    {
     "cell_type": "code",
     "collapsed": false,
     "input": [
      "!gcc IST.c -o IST.o \n",
      "!time ./IST.o"
     ],
     "language": "python",
     "metadata": {},
     "outputs": [
      {
       "output_type": "stream",
       "stream": "stdout",
       "text": [
        "\r\n",
        "real\t0m1.087s\r\n",
        "user\t0m1.019s\r\n",
        "sys\t0m0.056s\r\n"
       ]
      }
     ],
     "prompt_number": 46
    },
    {
     "cell_type": "code",
     "collapsed": false,
     "input": [
      "!gcc -O3 IST.c -o IST_O3.o\n",
      "!time ./IST_O3.o"
     ],
     "language": "python",
     "metadata": {},
     "outputs": [
      {
       "output_type": "stream",
       "stream": "stdout",
       "text": [
        "\r\n",
        "real\t0m0.522s\r\n",
        "user\t0m0.462s\r\n",
        "sys\t0m0.053s\r\n"
       ]
      }
     ],
     "prompt_number": 47
    },
    {
     "cell_type": "markdown",
     "metadata": {},
     "source": [
      "### Graphing\n",
      "Of course, we have plots."
     ]
    },
    {
     "cell_type": "code",
     "collapsed": false,
     "input": [
      "from pylab import *\n",
      "\n",
      "python = 201\n",
      "numpy  = 12.9\n",
      "matlab = 7.17\n",
      "numba  = 10.0\n",
      "c      = 1.087\n",
      "c_O3   = 0.522\n",
      "\n",
      "labels = ['python',  'numpy', 'numba', 'matlab', 'c', 'c -O3']\n",
      "timings = [python,    numpy,   numba,   matlab,  c,    c_O3]\n",
      "x = np.arange(len(labels))\n",
      "\n",
      "figure(figsize=(8, 8))\n",
      "matplotlib.rcParams.update({'font.size': 15})\n",
      "ax = plt.axes(xticks=x, yscale='log')\n",
      "ax.bar(x - 0.3, timings, width=0.6, alpha=0.4, bottom=1E-6)\n",
      "ax.grid()\n",
      "ax.set_xlim(-0.5, len(labels) - 0.5)\n",
      "ax.set_ylim(3E-1, 3E2)\n",
      "ax.xaxis.set_major_formatter(plt.FuncFormatter(lambda i, loc: labels[int(i)]))\n",
      "ax.set_ylabel('time (s)')\n",
      "ax.set_title(\"Iterative Soft Thresholding\")\n",
      "show()\n"
     ],
     "language": "python",
     "metadata": {},
     "outputs": [
      {
       "output_type": "display_data",
       "png": "[encoded data removed]"
      }
     ],
     "prompt_number": 15
    },
    {
     "cell_type": "markdown",
     "metadata": {},
     "source": [
      "And zooming closer in on the range we're interested in, and doing those comparisions..."
     ]
    },
    {
     "cell_type": "code",
     "collapsed": false,
     "input": [
      "labels  = ['numpy', 'numba', 'matlab']\n",
      "timings = [ numpy,   numba,   matlab]\n",
      "x = np.arange(len(labels))\n",
      "\n",
      "ax = plt.axes(xticks=x)#, yscale='log')\n",
      "ax.bar(x - 0.3, timings, width=0.6, alpha=0.4, bottom=1E-6)\n",
      "ax.grid()\n",
      "ax.set_xlim(-0.5, len(labels) - 0.5)\n",
      "ax.set_ylim(0, 14)\n",
      "ax.xaxis.set_major_formatter(plt.FuncFormatter(lambda i, loc: labels[int(i)]))\n",
      "ax.set_ylabel('time (s)')\n",
      "ax.set_title(\"Iterative Soft Thresholding\")\n",
      "show()"
     ],
     "language": "python",
     "metadata": {},
     "outputs": [
      {
       "output_type": "display_data",
       "png": "[encoded data removed]"
      }
     ],
     "prompt_number": 16
    },
    {
     "cell_type": "code",
     "collapsed": false,
     "input": [
      "print \"C comparisions:\"\n",
      "print \"NumPy / C  :\", numpy  / c\n",
      "print \"Numba / C  :\", numba  / c\n",
      "print \"Matlab / C :\", matlab / c\n",
      "\n",
      "print \"\\nThe comparision that we care about, Numba and Numpy divided by Matlab:\"\n",
      "print \"Numba / Matlab: \", numba / matlab\n",
      "print \"NumPy / Matlab: \" , numpy / matlab\n",
      "\n"
     ],
     "language": "python",
     "metadata": {},
     "outputs": [
      {
       "output_type": "stream",
       "stream": "stdout",
       "text": [
        "C comparisions:"
       ]
      },
      {
       "output_type": "stream",
       "stream": "stdout",
       "text": [
        "\n",
        "NumPy / C  : 11.867525299\n",
        "Numba / C  : 9.19963201472\n",
        "Matlab / C : 6.59613615455\n",
        "\n",
        "The comparision that we care about, Numba and Numpy divided by Matlab:\n",
        "Numba / Matlab:  1.39470013947\n",
        "NumPy / Matlab:  1.79916317992\n"
       ]
      }
     ],
     "prompt_number": 51
    },
    {
     "cell_type": "markdown",
     "metadata": {},
     "source": [
      "Notice the log scale on the first plot. 1 tick is a **huge** difference.\n",
      "\n",
      "Numba is a recent development: it's only in 0.9 and was released only a year or so ago. Matlab on the other hand has had a JIT compiler for 8 years, [since 2002][1] (since [Matlab 6.5][2]). My sense is that Matlab will go the way of [IDL][3], while Python, I think, will become the new standard. In machine learning, that's becoming the case, although Matlab still plays a role. NumPy, without Numba, is already a valid competitor to Matlab: the speeds are close to the same. As Numba gets more mature and more stable, Python will become more of a competitor to Matlab.\n",
      "\n",
      "[1]:http://www.ee.columbia.edu/~marios/matlab/accel_matlab.pdf\n",
      "[2]:https://en.wikipedia.org/wiki/MATLAB#Release_history\n",
      "[3]:https://en.wikipedia.org/wiki/IDL_(programming_language)\n"
     ]
    },
    {
     "cell_type": "code",
     "collapsed": false,
     "input": [],
     "language": "python",
     "metadata": {},
     "outputs": []
    }
   ],
   "metadata": {}
  }
 ]
}