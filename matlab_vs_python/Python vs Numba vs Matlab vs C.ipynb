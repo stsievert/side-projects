{
 "metadata": {
  "name": "Python vs Numba vs Matlab vs C"
 },
 "nbformat": 3,
 "nbformat_minor": 0,
 "worksheets": [
  {
   "cells": [
    {
     "cell_type": "markdown",
     "metadata": {},
     "source": [
      "# NumPy, Numba, Matlab and C"
     ]
    },
    {
     "cell_type": "markdown",
     "metadata": {},
     "source": [
      "In my field, signal processing, Matlab is heavily used. I see Python as becoming a valid competitor, eventually. However, one of the advantages of Matlab is that it has a just-in-time compiler (JIT), making it much faster. Here, I test to see *how* much faster. I use Python's JIT, Numba, as well, and also include a C file to compare against.\n",
      "\n",
      "Any file compared is viewable at [my GitHub][2]. It's over 800 lines of code, the reason it's not in this notebook. As for overhead, I've tested the notebook GUI out, and there's no added overhead.\n",
      "\n",
      "\n",
      "[1]:http://jakevdp.github.io/blog/2013/06/15/numba-vs-cython-take-2/\n",
      "[2]:https://github.com/scottsievert/side-projects/tree/master/matlab_vs_python"
     ]
    },
    {
     "cell_type": "markdown",
     "metadata": {},
     "source": [
      "### Numpy\n",
      "Here, we're going to define a several functions (discrete wavelet operations, inverse and forward), then test the iterative soft thresholding (IST). You can see all the declarations in the GitHub repo."
     ]
    },
    {
     "cell_type": "code",
     "collapsed": false,
     "input": [
      "from IST import *\n",
      "%timeit IST()"
     ],
     "language": "python",
     "metadata": {},
     "outputs": [
      {
       "output_type": "stream",
       "stream": "stdout",
       "text": [
        "1 loops, best of 3: 349 s per loop\n"
       ]
      }
     ],
     "prompt_number": 1
    },
    {
     "cell_type": "markdown",
     "metadata": {},
     "source": [
      "### Numba Wrapper\n",
      "Compiling this function in Numba was a pain. I ran into weird bugs where was testing a function, or running it multiple times, I would get an error. If I quit the interpetter and restarted, it was fine and I got no bugs. I also had to adjust anything or unusual (tuple assignment didn't work, `dtype` assignment didn't work, etc). The functions in `ISTnumba` are those adjusted functions with an `@autojit` decerator."
     ]
    },
    {
     "cell_type": "code",
     "collapsed": false,
     "input": [
      "from ISTnumba import *\n",
      "\n",
      "%timeit IST()"
     ],
     "language": "python",
     "metadata": {},
     "outputs": [
      {
       "output_type": "stream",
       "stream": "stdout",
       "text": [
        "1 loops, best of 3: 40.9 s per loop"
       ]
      },
      {
       "output_type": "stream",
       "stream": "stdout",
       "text": [
        "\n"
       ]
      }
     ],
     "prompt_number": 1
    },
    {
     "cell_type": "markdown",
     "metadata": {},
     "source": []
    },
    {
     "cell_type": "markdown",
     "metadata": {},
     "source": [
      "### MATLAB\n",
      "This will be run in the actual Matlab environment, but I'll include the code in here. I have installed the MATLAB command line tools, but there aren't any man pages. But, anyways, the final result:"
     ]
    },
    {
     "cell_type": "raw",
     "metadata": {},
     "source": [
      "Elapsed time is 12.257213 seconds."
     ]
    },
    {
     "cell_type": "markdown",
     "metadata": {},
     "source": [
      "### C\n",
      "And the C version."
     ]
    },
    {
     "cell_type": "code",
     "collapsed": false,
     "input": [
      "!time ./IST.o"
     ],
     "language": "python",
     "metadata": {},
     "outputs": [
      {
       "output_type": "stream",
       "stream": "stdout",
       "text": [
        "Start\r\n"
       ]
      },
      {
       "output_type": "stream",
       "stream": "stdout",
       "text": [
        "\r\n",
        "real\t0m0.931s\r\n",
        "user\t0m0.878s\r\n",
        "sys\t0m0.051s\r\n"
       ]
      }
     ],
     "prompt_number": 1
    },
    {
     "cell_type": "markdown",
     "metadata": {},
     "source": [
      "### Graphing\n",
      "Of course, we have plots."
     ]
    },
    {
     "cell_type": "code",
     "collapsed": false,
     "input": [
      "from pylab import *\n",
      "numpy = 349\n",
      "numba = 40.9\n",
      "matlab = 12.24\n",
      "c = 0.931\n",
      "\n",
      "labels = ['numpy', 'numba', 'matlab', 'c']\n",
      "timings = [numpy, numba, matlab, c]\n",
      "x = np.arange(len(labels))\n",
      "\n",
      "ax = plt.axes(xticks=x, yscale='log')\n",
      "ax.bar(x - 0.3, timings, width=0.6, alpha=0.4, bottom=1E-6)\n",
      "ax.grid()\n",
      "ax.set_xlim(-0.5, len(labels) - 0.5)\n",
      "ax.set_ylim(3E-1, 6E2)\n",
      "ax.xaxis.set_major_formatter(plt.FuncFormatter(lambda i, loc: labels[int(i)]))\n",
      "ax.set_ylabel('time (s)')\n",
      "ax.set_title(\"Iterative Soft Thresholding\")\n",
      "show()\n"
     ],
     "language": "python",
     "metadata": {},
     "outputs": [
      {
       "output_type": "display_data",
       "png": "[encoded data removed]"
      }
     ],
     "prompt_number": 2
    },
    {
     "cell_type": "code",
     "collapsed": false,
     "input": [
      "print \"C comparisions:\"\n",
      "print \"NumPy  :\", numpy  / c\n",
      "print \"Numba  :\", numba  / c\n",
      "print \"Matlab :\", matlab / c\n",
      "\n",
      "print \"\\nThe comparision that we care about, Numba vs Matlab:\"\n",
      "print \"Numba/Matlab:\", numba / matlab\n"
     ],
     "language": "python",
     "metadata": {},
     "outputs": [
      {
       "output_type": "stream",
       "stream": "stdout",
       "text": [
        "C comparisions:\n",
        "NumPy  : 374.865735768\n",
        "Numba  : 43.9312567132\n",
        "Matlab : 13.1471535983\n",
        "\n",
        "The comparision that we care about, Numba vs Matlab:\n",
        "Numba/Matlab: 3.34150326797\n"
       ]
      }
     ],
     "prompt_number": 13
    },
    {
     "cell_type": "markdown",
     "metadata": {},
     "source": [
      "Notice the log scale on that plot. 1 tick is a **huge** difference -- an hour vs. a work day.\n",
      "\n",
      "Numba is a recent development: it's only in 0.9 and was released only a year or so ago. Matlab on the other hand has had a JIT compiler for 8 years, [since 2002][1] (since [Matlab 6.5][2]). My sense is that Matlab will go the way of [IDL][3], while Python, I think, will become the new standard. In machine learning, that's becoming the case, although Matlab still plays a role. When Numba gets more stable and easier to integrate, Python will be a valid competitor. Python, even with Numba, is still 33 times slower than Matlab, a very significant difference.\n",
      "\n",
      "[1]:http://www.ee.columbia.edu/~marios/matlab/accel_matlab.pdf\n",
      "[2]:https://en.wikipedia.org/wiki/MATLAB#Release_history\n",
      "[3]:https://en.wikipedia.org/wiki/IDL_(programming_language)\n"
     ]
    }
   ],
   "metadata": {}
  }
 ]
}